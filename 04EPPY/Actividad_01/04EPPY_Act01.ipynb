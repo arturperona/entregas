{
 "cells": [
  {
   "cell_type": "markdown",
   "id": "intellectual-humor",
   "metadata": {},
   "source": [
    "<img src=\"../img/viu_logo.png\" width=\"200\">\n",
    "\n",
    "## 04EPPY - Actividad 1\n",
    "\n",
    "25% de la Nota Final\n",
    "\n",
    "### Fecha Entrega\n",
    "- Convocatoria 1 - 10/03/2022\n",
    "- Convocatoria 2 - 17/03/2022\n",
    "\n",
    "### Instrucciones:\n",
    "- Crear un notebook de Python3 que servirá como entrega de la actividad.\n",
    "- Separar bien los apartados propuestos con celdas Markdown.\n",
    "- Mantener una estructura limpia, comentando código y secuenciando los apartados con el código correspondiente que resuelva la actividad.\n",
    "- Como criterio de evaluación se tendrá en cuenta el resultado, la consecución del mismo, estilo, comentarios y adecuación.\n",
    "- No está permitido compartir los resultados ni el código en ninguno de los foros. \n",
    "\n",
    "### Entrega:\n",
    "- Un solo documento en formato notebook: .ipynb\n",
    "- Para hacer la entrega hay que hacer un tag al repositorio en una fecha anterior a la fecha de entrega de la actividad, y pegar el enlace al tag del repositorio en la actividad de blackboard."
   ]
  },
  {
   "cell_type": "markdown",
   "id": "southwest-learning",
   "metadata": {},
   "source": [
    "### A1 - Ficheros - 15%\n",
    "- Descarga datos mediante la siguiente url https://raw.githubusercontent.com/grammakov/USA-cities-and-states/master/us_cities_states_counties.csv\n",
    "- Imprimir el número de ciudades que tiene el estado de Florida\n",
    "- Resolver el problema de dos maneras distintas, una usando pandas y otra sin usar ninguna librería (solo Python standard)"
   ]
  },
  {
   "cell_type": "code",
   "execution_count": 1,
   "id": "125147a0",
   "metadata": {},
   "outputs": [
    {
     "data": {
      "text/plain": [
       "('data\\\\us_cities_states_counties.csv',\n",
       " <http.client.HTTPMessage at 0x1a06821ded0>)"
      ]
     },
     "execution_count": 1,
     "metadata": {},
     "output_type": "execute_result"
    }
   ],
   "source": [
    "import pandas as pd\n",
    "import urllib.request # para descargar de URL\n",
    "import os\n",
    "\n",
    "# descargamos los datos \n",
    "url = 'https://raw.githubusercontent.com/grammakov/USA-cities-and-states/master/us_cities_states_counties.csv'  \n",
    "path = os.path.join(\"data\", \"us_cities_states_counties.csv\")\n",
    "urllib.request.urlretrieve(url, path)"
   ]
  },
  {
   "cell_type": "code",
   "execution_count": 2,
   "id": "40bf3bf1",
   "metadata": {},
   "outputs": [
    {
     "data": {
      "text/html": [
       "<div>\n",
       "<style scoped>\n",
       "    .dataframe tbody tr th:only-of-type {\n",
       "        vertical-align: middle;\n",
       "    }\n",
       "\n",
       "    .dataframe tbody tr th {\n",
       "        vertical-align: top;\n",
       "    }\n",
       "\n",
       "    .dataframe thead th {\n",
       "        text-align: right;\n",
       "    }\n",
       "</style>\n",
       "<table border=\"1\" class=\"dataframe\">\n",
       "  <thead>\n",
       "    <tr style=\"text-align: right;\">\n",
       "      <th></th>\n",
       "      <th>State short</th>\n",
       "      <th>State full</th>\n",
       "      <th>County</th>\n",
       "      <th>City alias</th>\n",
       "    </tr>\n",
       "    <tr>\n",
       "      <th>City</th>\n",
       "      <th></th>\n",
       "      <th></th>\n",
       "      <th></th>\n",
       "      <th></th>\n",
       "    </tr>\n",
       "  </thead>\n",
       "  <tbody>\n",
       "    <tr>\n",
       "      <th>Holtsville</th>\n",
       "      <td>NY</td>\n",
       "      <td>New York</td>\n",
       "      <td>SUFFOLK</td>\n",
       "      <td>Internal Revenue Service</td>\n",
       "    </tr>\n",
       "    <tr>\n",
       "      <th>Holtsville</th>\n",
       "      <td>NY</td>\n",
       "      <td>New York</td>\n",
       "      <td>SUFFOLK</td>\n",
       "      <td>Holtsville</td>\n",
       "    </tr>\n",
       "    <tr>\n",
       "      <th>Adjuntas</th>\n",
       "      <td>PR</td>\n",
       "      <td>Puerto Rico</td>\n",
       "      <td>ADJUNTAS</td>\n",
       "      <td>URB San Joaquin</td>\n",
       "    </tr>\n",
       "    <tr>\n",
       "      <th>Adjuntas</th>\n",
       "      <td>PR</td>\n",
       "      <td>Puerto Rico</td>\n",
       "      <td>ADJUNTAS</td>\n",
       "      <td>Jard De Adjuntas</td>\n",
       "    </tr>\n",
       "    <tr>\n",
       "      <th>Adjuntas</th>\n",
       "      <td>PR</td>\n",
       "      <td>Puerto Rico</td>\n",
       "      <td>ADJUNTAS</td>\n",
       "      <td>Colinas Del Gigante</td>\n",
       "    </tr>\n",
       "    <tr>\n",
       "      <th>...</th>\n",
       "      <td>...</td>\n",
       "      <td>...</td>\n",
       "      <td>...</td>\n",
       "      <td>...</td>\n",
       "    </tr>\n",
       "    <tr>\n",
       "      <th>Klawock</th>\n",
       "      <td>AK</td>\n",
       "      <td>Alaska</td>\n",
       "      <td>PRINCE OF WALES HYDER</td>\n",
       "      <td>Klawock</td>\n",
       "    </tr>\n",
       "    <tr>\n",
       "      <th>Metlakatla</th>\n",
       "      <td>AK</td>\n",
       "      <td>Alaska</td>\n",
       "      <td>PRINCE OF WALES HYDER</td>\n",
       "      <td>Metlakatla</td>\n",
       "    </tr>\n",
       "    <tr>\n",
       "      <th>Point Baker</th>\n",
       "      <td>AK</td>\n",
       "      <td>Alaska</td>\n",
       "      <td>PRINCE OF WALES HYDER</td>\n",
       "      <td>Point Baker</td>\n",
       "    </tr>\n",
       "    <tr>\n",
       "      <th>Ward Cove</th>\n",
       "      <td>AK</td>\n",
       "      <td>Alaska</td>\n",
       "      <td>KETCHIKAN GATEWAY</td>\n",
       "      <td>Ward Cove</td>\n",
       "    </tr>\n",
       "    <tr>\n",
       "      <th>Wrangell</th>\n",
       "      <td>AK</td>\n",
       "      <td>Alaska</td>\n",
       "      <td>WRANGELL</td>\n",
       "      <td>Wrangell</td>\n",
       "    </tr>\n",
       "  </tbody>\n",
       "</table>\n",
       "<p>63210 rows × 4 columns</p>\n",
       "</div>"
      ],
      "text/plain": [
       "            State short   State full                 County  \\\n",
       "City                                                          \n",
       "Holtsville           NY     New York                SUFFOLK   \n",
       "Holtsville           NY     New York                SUFFOLK   \n",
       "Adjuntas             PR  Puerto Rico               ADJUNTAS   \n",
       "Adjuntas             PR  Puerto Rico               ADJUNTAS   \n",
       "Adjuntas             PR  Puerto Rico               ADJUNTAS   \n",
       "...                 ...          ...                    ...   \n",
       "Klawock              AK       Alaska  PRINCE OF WALES HYDER   \n",
       "Metlakatla           AK       Alaska  PRINCE OF WALES HYDER   \n",
       "Point Baker          AK       Alaska  PRINCE OF WALES HYDER   \n",
       "Ward Cove            AK       Alaska      KETCHIKAN GATEWAY   \n",
       "Wrangell             AK       Alaska               WRANGELL   \n",
       "\n",
       "                           City alias  \n",
       "City                                   \n",
       "Holtsville   Internal Revenue Service  \n",
       "Holtsville                 Holtsville  \n",
       "Adjuntas              URB San Joaquin  \n",
       "Adjuntas             Jard De Adjuntas  \n",
       "Adjuntas          Colinas Del Gigante  \n",
       "...                               ...  \n",
       "Klawock                       Klawock  \n",
       "Metlakatla                 Metlakatla  \n",
       "Point Baker               Point Baker  \n",
       "Ward Cove                   Ward Cove  \n",
       "Wrangell                     Wrangell  \n",
       "\n",
       "[63210 rows x 4 columns]"
      ]
     },
     "metadata": {},
     "output_type": "display_data"
    }
   ],
   "source": [
    "# leemos desde el path creado como dataframe de pandas\n",
    "df_us_cities_states_counties = pd.read_csv(path, sep='|', index_col=0, engine='python')\n",
    "display(df_us_cities_states_counties)"
   ]
  },
  {
   "cell_type": "code",
   "execution_count": 5,
   "id": "8565669e",
   "metadata": {},
   "outputs": [
    {
     "data": {
      "text/html": [
       "<div>\n",
       "<style scoped>\n",
       "    .dataframe tbody tr th:only-of-type {\n",
       "        vertical-align: middle;\n",
       "    }\n",
       "\n",
       "    .dataframe tbody tr th {\n",
       "        vertical-align: top;\n",
       "    }\n",
       "\n",
       "    .dataframe thead th {\n",
       "        text-align: right;\n",
       "    }\n",
       "</style>\n",
       "<table border=\"1\" class=\"dataframe\">\n",
       "  <thead>\n",
       "    <tr style=\"text-align: right;\">\n",
       "      <th></th>\n",
       "      <th>State short</th>\n",
       "      <th>State full</th>\n",
       "      <th>County</th>\n",
       "      <th>City alias</th>\n",
       "    </tr>\n",
       "    <tr>\n",
       "      <th>City</th>\n",
       "      <th></th>\n",
       "      <th></th>\n",
       "      <th></th>\n",
       "      <th></th>\n",
       "    </tr>\n",
       "  </thead>\n",
       "  <tbody>\n",
       "    <tr>\n",
       "      <th>Fleming Island</th>\n",
       "      <td>FL</td>\n",
       "      <td>Florida</td>\n",
       "      <td>CLAY</td>\n",
       "      <td>Orange Pk</td>\n",
       "    </tr>\n",
       "    <tr>\n",
       "      <th>Fleming Island</th>\n",
       "      <td>FL</td>\n",
       "      <td>Florida</td>\n",
       "      <td>CLAY</td>\n",
       "      <td>Fleming Island</td>\n",
       "    </tr>\n",
       "    <tr>\n",
       "      <th>Fleming Island</th>\n",
       "      <td>FL</td>\n",
       "      <td>Florida</td>\n",
       "      <td>CLAY</td>\n",
       "      <td>Fleming Isle</td>\n",
       "    </tr>\n",
       "    <tr>\n",
       "      <th>Fleming Island</th>\n",
       "      <td>FL</td>\n",
       "      <td>Florida</td>\n",
       "      <td>CLAY</td>\n",
       "      <td>Orange Park</td>\n",
       "    </tr>\n",
       "    <tr>\n",
       "      <th>Ponte Vedra Beach</th>\n",
       "      <td>FL</td>\n",
       "      <td>Florida</td>\n",
       "      <td>SAINT JOHNS</td>\n",
       "      <td>Ponte Vedra Beach</td>\n",
       "    </tr>\n",
       "    <tr>\n",
       "      <th>...</th>\n",
       "      <td>...</td>\n",
       "      <td>...</td>\n",
       "      <td>...</td>\n",
       "      <td>...</td>\n",
       "    </tr>\n",
       "    <tr>\n",
       "      <th>Okeechobee</th>\n",
       "      <td>FL</td>\n",
       "      <td>Florida</td>\n",
       "      <td>OKEECHOBEE</td>\n",
       "      <td>Yeehaw</td>\n",
       "    </tr>\n",
       "    <tr>\n",
       "      <th>Palm City</th>\n",
       "      <td>FL</td>\n",
       "      <td>Florida</td>\n",
       "      <td>MARTIN</td>\n",
       "      <td>Palm City</td>\n",
       "    </tr>\n",
       "    <tr>\n",
       "      <th>Port Salerno</th>\n",
       "      <td>FL</td>\n",
       "      <td>Florida</td>\n",
       "      <td>MARTIN</td>\n",
       "      <td>Port Salerno</td>\n",
       "    </tr>\n",
       "    <tr>\n",
       "      <th>Stuart</th>\n",
       "      <td>FL</td>\n",
       "      <td>Florida</td>\n",
       "      <td>MARTIN</td>\n",
       "      <td>Stuart</td>\n",
       "    </tr>\n",
       "    <tr>\n",
       "      <th>Stuart</th>\n",
       "      <td>FL</td>\n",
       "      <td>Florida</td>\n",
       "      <td>MARTIN</td>\n",
       "      <td>Sewalls Point</td>\n",
       "    </tr>\n",
       "  </tbody>\n",
       "</table>\n",
       "<p>1400 rows × 4 columns</p>\n",
       "</div>"
      ],
      "text/plain": [
       "                  State short State full       County         City alias\n",
       "City                                                                    \n",
       "Fleming Island             FL    Florida         CLAY          Orange Pk\n",
       "Fleming Island             FL    Florida         CLAY     Fleming Island\n",
       "Fleming Island             FL    Florida         CLAY       Fleming Isle\n",
       "Fleming Island             FL    Florida         CLAY        Orange Park\n",
       "Ponte Vedra Beach          FL    Florida  SAINT JOHNS  Ponte Vedra Beach\n",
       "...                       ...        ...          ...                ...\n",
       "Okeechobee                 FL    Florida   OKEECHOBEE             Yeehaw\n",
       "Palm City                  FL    Florida       MARTIN          Palm City\n",
       "Port Salerno               FL    Florida       MARTIN       Port Salerno\n",
       "Stuart                     FL    Florida       MARTIN             Stuart\n",
       "Stuart                     FL    Florida       MARTIN      Sewalls Point\n",
       "\n",
       "[1400 rows x 4 columns]"
      ]
     },
     "execution_count": 5,
     "metadata": {},
     "output_type": "execute_result"
    }
   ],
   "source": [
    "# creamos una máscara para filtrar el estado de Florida\n",
    "mask_fl = df_us_cities_states_counties['State short'] == \"FL\"\n",
    "df_florida = df_us_cities_states_counties.loc[mask_fl]\n",
    "df_florida"
   ]
  },
  {
   "cell_type": "code",
   "execution_count": 16,
   "id": "5fc6e6aa",
   "metadata": {},
   "outputs": [
    {
     "name": "stdout",
     "output_type": "stream",
     "text": [
      "Número de ciudades en FL: 537\n",
      "Número de ciudades en FL: 537\n"
     ]
    }
   ],
   "source": [
    "# para calcular el número de ciudades podemos obtener los valores únicos y contarlos\n",
    "print(f'Número de ciudades en FL: {len(df_florida.index.value_counts())}')\n",
    "print(f'Número de ciudades en FL: {len(pd.unique(df_florida.index))}')"
   ]
  },
  {
   "cell_type": "code",
   "execution_count": 17,
   "id": "eeb88cb4",
   "metadata": {},
   "outputs": [
    {
     "name": "stdout",
     "output_type": "stream",
     "text": [
      "Número de ciudades en FL:  537\n"
     ]
    }
   ],
   "source": [
    "# sin usar pandas podemos usar csv reader\n",
    "import csv\n",
    "florida_cities = []\n",
    "with open (path, \"r\") as f:\n",
    "    data_reader = csv.reader(f, delimiter='|')\n",
    "    for row in data_reader:\n",
    "        if row[1] == 'FL':\n",
    "            if row[0] not in florida_cities:\n",
    "                florida_cities.append(row[0])\n",
    "print(f'Número de ciudades en FL:  {len(florida_cities)}')"
   ]
  },
  {
   "cell_type": "markdown",
   "id": "controlling-referral",
   "metadata": {},
   "source": [
    "### A2 - 15%\n",
    "- Genera una matriz con valores aleatorios de 0 a 100 de dimensiones 16x16\n",
    "- Calcula los siguentes estadísticos en la matriz anterior, por fila (el resultado de cada uno debe ser un array de dimensiones 16x1)\n",
    "  - Suma de los elementos de cada fila\n",
    "  - Media de los elementos de cada fila\n",
    "  - Valores mínimos de cada fila\n",
    "  - Valores máximos de cada fila"
   ]
  },
  {
   "cell_type": "code",
   "execution_count": 22,
   "id": "8b44064c",
   "metadata": {},
   "outputs": [
    {
     "data": {
      "text/plain": [
       "array([[ 51,  92,  14,  71,  60,  20,  82,  86,  74,  74,  87,  99,  23,\n",
       "          2,  21,  52],\n",
       "       [  1,  87,  29,  37,   1,  63,  59,  20,  32,  75,  57,  21,  88,\n",
       "         48,  90,  58],\n",
       "       [ 41,  91,  59,  79,  14,  61,  61,  46,  61,  50,  54,  63,   2,\n",
       "        100,  50,   6],\n",
       "       [ 20,  72,  38,  17,   3,  88,  59,  13,   8,  89,  52,   1,  83,\n",
       "         91,  59,  70],\n",
       "       [ 43,   7,  46,  34,  77,  80,  35,  49,   3,   1,   5,  53,   3,\n",
       "         53,  92,  62],\n",
       "       [ 17,  89,  43,  33,  73,  61,  99,  13,  94,  47,  14,  71,  77,\n",
       "         86,  61,  39],\n",
       "       [ 84,  79,  81,  52,  23,  25,  88,  59,  40,  28,  14,  44,  64,\n",
       "         88,  70,   8],\n",
       "       [ 87,   0,   7,  87,  62,  10,  80,   7,  34,  34,  32,   4,  40,\n",
       "         27,   6,  72],\n",
       "       [ 71,  11,  33,  32,  47,  22,  61,  87,  36,  98,  43,  85,  90,\n",
       "         34,  64,  98],\n",
       "       [100,  46,  77,   2,   0,   4,  89,  13,  26,   8,  78,  14,  89,\n",
       "         41,  76,  50],\n",
       "       [ 62,  95,  51,  95,   3,  93, 100,  22,  14,  42,  28,  35,  12,\n",
       "         31,  70,  58],\n",
       "       [ 85,  27,  65,  41,  44,  61,  56,   5,  27,  27,  43,  83,  29,\n",
       "         61,  74,  91],\n",
       "       [ 88,  61,  96,   0,  26,  61,  76,   2,  69,  71,  26,   8,  61,\n",
       "         36,  96,  50],\n",
       "       [ 43,  23,  78,  58,  31,  95,  87,  51,  61,  57,  51,  11,  38,\n",
       "          1,   2, 100],\n",
       "       [ 55,  80,  58,   1,   1,  91,  53,  86, 100,  95,  96,   0,  18,\n",
       "          1,  52,  43],\n",
       "       [ 89,  31,  69,  31,  67,  54,  74,  55,  16,  37,  23,  68,  97,\n",
       "         69,  85,  10]])"
      ]
     },
     "metadata": {},
     "output_type": "display_data"
    },
    {
     "data": {
      "text/plain": [
       "(16, 16)"
      ]
     },
     "metadata": {},
     "output_type": "display_data"
    }
   ],
   "source": [
    "import numpy as np\n",
    "\n",
    "np.random.seed(42)\n",
    "M = np.random.randint(101,size=(16,16))\n",
    "display(M)\n",
    "display(M.shape)\n"
   ]
  },
  {
   "cell_type": "code",
   "execution_count": 33,
   "id": "d1bf8b61",
   "metadata": {},
   "outputs": [
    {
     "name": "stdout",
     "output_type": "stream",
     "text": [
      " El array suma es :  [908 766 838 763 643 917 847 589 912 713 811 819 827 787 830 875]\n",
      " El array medio es :  [56.75   47.875  52.375  47.6875 40.1875 57.3125 52.9375 36.8125 57.\n",
      " 44.5625 50.6875 51.1875 51.6875 49.1875 51.875  54.6875]\n",
      " El array mediano es :  [65.5 52.5 56.5 55.5 44.5 61.  55.5 33.  54.  43.5 46.5 50.  61.  51.\n",
      " 54.  61. ]\n",
      " El array mínimo es :  [ 2  1  2  1  1 13  8  0 11  0  3  5  0  1  0 10]\n",
      " El array máximo es :  [ 99  90 100  91  92  99  88  87  98 100 100  91  96 100 100  97]\n"
     ]
    }
   ],
   "source": [
    "#aplicamos la función sum de numpy en axis = 1 y sumamos cada fila\n",
    "print(f' El array suma es :  {np.sum(M, axis=1)}')\n",
    "print(f' El array medio es :  {np.mean(M,axis=1)}')\n",
    "print(f' El array mediano es :  {np.median(M,axis=1)}')\n",
    "print(f' El array mínimo es :  {np.min(M,axis=1)}')\n",
    "print(f' El array máximo es :  {np.max(M,axis=1)}')"
   ]
  },
  {
   "cell_type": "markdown",
   "id": "improving-championship",
   "metadata": {},
   "source": [
    "### A3 - 10%\n",
    "- Explica y expón, con un ejemplo propio, el broadcasting de NumPy"
   ]
  },
  {
   "attachments": {},
   "cell_type": "markdown",
   "id": "3a594510",
   "metadata": {},
   "source": [
    "El _broadcasting_ en numpy es el modo de actuación que utiliza la librería a la hora de realizar operaciones entre arrays que tienen diferentes dimensiones, por la cual el array de inferior tamaño se distribuye en el array de mayor tamaño, de manera semejante a como entendemos la propiedad distributiba en aritmética. \n",
    "Cuando dos arrays de tamaño \n",
    "```python \n",
    "len(a) = len(b)\n",
    "``` \n",
    "se multiplican, numpy multiplica cada elemento equivalente entre ambos:\n",
    "\n",
    "$$a_1 * b_1 = c_1, ..., a_i * b_i = c_i $$\n",
    "\n",
    "Por ejemplo, de la siguiente manera:\n"
   ]
  },
  {
   "cell_type": "code",
   "execution_count": 219,
   "id": "bafa53eb",
   "metadata": {},
   "outputs": [
    {
     "name": "stdout",
     "output_type": "stream",
     "text": [
      "[4800    0    4    2]\n"
     ]
    }
   ],
   "source": [
    "a = np.array([8, 9, 1, 1])\n",
    "b = np.array([600, 0, 4, 2])\n",
    "c = a * b\n",
    "print(c)"
   ]
  },
  {
   "attachments": {},
   "cell_type": "markdown",
   "id": "3aa48e35",
   "metadata": {},
   "source": [
    "En cambio, cuando el caso en el que:\n",
    "```python \n",
    "len(a) != len(b)\n",
    "4 != 1\n",
    "``` \n",
    "$$a_1 * b_1 = c_1,   ...  ,  a_i * b_1 = c_i $$\n",
    "\n",
    "El segundo elemento se distribuye en el más grande de los dos, para ser compatible con el tamaño del otro, tal que:"
   ]
  },
  {
   "cell_type": "code",
   "execution_count": 221,
   "id": "9478b804",
   "metadata": {},
   "outputs": [
    {
     "name": "stdout",
     "output_type": "stream",
     "text": [
      "[4800 5400  600  600]\n"
     ]
    }
   ],
   "source": [
    "a = np.array([8, 9, 1, 1])\n",
    "b = np.array([600])\n",
    "c = a * b\n",
    "print(c)"
   ]
  },
  {
   "attachments": {},
   "cell_type": "markdown",
   "id": "316e4cfb",
   "metadata": {},
   "source": [
    "De la misma manera, sería compatible con broadcasting si tuvieramos un array de n dimensiones, contra otro de 1 dimensión:\n",
    "\n",
    "$$a_1i * b_1i = c_1i,   ...  ,  a_ji * b_1i = c_ji $$"
   ]
  },
  {
   "cell_type": "code",
   "execution_count": 224,
   "id": "0120087b",
   "metadata": {},
   "outputs": [
    {
     "name": "stdout",
     "output_type": "stream",
     "text": [
      "[[ 144   81   21    1]\n",
      " [1476  171  231   10]\n",
      " [ 324  261  441   17]]\n"
     ]
    }
   ],
   "source": [
    "a = np.array([[8, 9, 1, 1],[82, 19, 11, 10],[18, 29, 21, 17]])\n",
    "b = np.array([18, 9, 21, 1])\n",
    "c = a * b\n",
    "print(c)"
   ]
  },
  {
   "attachments": {},
   "cell_type": "markdown",
   "id": "fd5d0425",
   "metadata": {},
   "source": [
    "Nótese que actúa a nivel de fila y no como una multiplicación entre matrices"
   ]
  },
  {
   "cell_type": "markdown",
   "id": "announced-mortality",
   "metadata": {},
   "source": [
    "### A4 - 10%\n",
    "- Resolución de dos sistemas de ecuaciones\n",
    "    - $ A : \\begin{cases} -9y +  4x = 20 \\\\ -7y + 16x = 80                         \\end{cases}$\n",
    "    \n",
    "    - $ B : \\begin{cases} x - 2y + 3z = 7 \\\\ 2x + y + z = 4 \\\\ -3x + 2y -2z = -10 \\end{cases}$"
   ]
  },
  {
   "cell_type": "code",
   "execution_count": 38,
   "id": "ce5d3b72",
   "metadata": {},
   "outputs": [
    {
     "data": {
      "text/plain": [
       "array([-0.,  5.])"
      ]
     },
     "execution_count": 38,
     "metadata": {},
     "output_type": "execute_result"
    }
   ],
   "source": [
    "# A\n",
    "equation_a = np.array([[-9,4],[-7,16]])\n",
    "equals_a = np.array([20,80])\n",
    "result = np.linalg.solve(equation_a,equals_a)\n",
    "result"
   ]
  },
  {
   "cell_type": "code",
   "execution_count": 39,
   "id": "7344ba99",
   "metadata": {},
   "outputs": [
    {
     "data": {
      "text/plain": [
       "array([ 2., -1.,  1.])"
      ]
     },
     "execution_count": 39,
     "metadata": {},
     "output_type": "execute_result"
    }
   ],
   "source": [
    "# B\n",
    "\n",
    "equation_b = np.array([[1,-2,3],[2,1,1],[-3,2,-2]])\n",
    "equals_b = np.array([7,4,-10])\n",
    "result = np.linalg.solve(equation_b,equals_b)\n",
    "result"
   ]
  },
  {
   "cell_type": "markdown",
   "id": "grave-summer",
   "metadata": {},
   "source": [
    "### A5 - 15%\n",
    "- Crear un DataFrame de dimensiones 10x10, con números aleatorios en el rango `[0,20]`\n",
    "- Reemplazar todos aquellos elementos menores de 5 por NaN\n",
    "- Averiguar cuantos elementos tienen Nan por fila"
   ]
  },
  {
   "cell_type": "code",
   "execution_count": 61,
   "id": "afe94449",
   "metadata": {},
   "outputs": [],
   "source": [
    "np.random.seed(42)\n",
    "df = pd.DataFrame(np.random.randint(21,size=(10,10)))\n"
   ]
  },
  {
   "cell_type": "code",
   "execution_count": 62,
   "id": "16017358",
   "metadata": {},
   "outputs": [
    {
     "data": {
      "text/html": [
       "<div>\n",
       "<style scoped>\n",
       "    .dataframe tbody tr th:only-of-type {\n",
       "        vertical-align: middle;\n",
       "    }\n",
       "\n",
       "    .dataframe tbody tr th {\n",
       "        vertical-align: top;\n",
       "    }\n",
       "\n",
       "    .dataframe thead th {\n",
       "        text-align: right;\n",
       "    }\n",
       "</style>\n",
       "<table border=\"1\" class=\"dataframe\">\n",
       "  <thead>\n",
       "    <tr style=\"text-align: right;\">\n",
       "      <th></th>\n",
       "      <th>0</th>\n",
       "      <th>1</th>\n",
       "      <th>2</th>\n",
       "      <th>3</th>\n",
       "      <th>4</th>\n",
       "      <th>5</th>\n",
       "      <th>6</th>\n",
       "      <th>7</th>\n",
       "      <th>8</th>\n",
       "      <th>9</th>\n",
       "    </tr>\n",
       "  </thead>\n",
       "  <tbody>\n",
       "    <tr>\n",
       "      <th>0</th>\n",
       "      <td>NaN</td>\n",
       "      <td>NaN</td>\n",
       "      <td>NaN</td>\n",
       "      <td>NaN</td>\n",
       "      <td>NaN</td>\n",
       "      <td>NaN</td>\n",
       "      <td>NaN</td>\n",
       "      <td>NaN</td>\n",
       "      <td>NaN</td>\n",
       "      <td>NaN</td>\n",
       "    </tr>\n",
       "    <tr>\n",
       "      <th>1</th>\n",
       "      <td>NaN</td>\n",
       "      <td>3.0</td>\n",
       "      <td>NaN</td>\n",
       "      <td>2.0</td>\n",
       "      <td>NaN</td>\n",
       "      <td>1.0</td>\n",
       "      <td>NaN</td>\n",
       "      <td>NaN</td>\n",
       "      <td>1.0</td>\n",
       "      <td>NaN</td>\n",
       "    </tr>\n",
       "    <tr>\n",
       "      <th>2</th>\n",
       "      <td>0.0</td>\n",
       "      <td>NaN</td>\n",
       "      <td>NaN</td>\n",
       "      <td>NaN</td>\n",
       "      <td>NaN</td>\n",
       "      <td>NaN</td>\n",
       "      <td>NaN</td>\n",
       "      <td>NaN</td>\n",
       "      <td>NaN</td>\n",
       "      <td>NaN</td>\n",
       "    </tr>\n",
       "    <tr>\n",
       "      <th>3</th>\n",
       "      <td>NaN</td>\n",
       "      <td>2.0</td>\n",
       "      <td>4.0</td>\n",
       "      <td>NaN</td>\n",
       "      <td>NaN</td>\n",
       "      <td>NaN</td>\n",
       "      <td>NaN</td>\n",
       "      <td>NaN</td>\n",
       "      <td>NaN</td>\n",
       "      <td>3.0</td>\n",
       "    </tr>\n",
       "    <tr>\n",
       "      <th>4</th>\n",
       "      <td>NaN</td>\n",
       "      <td>NaN</td>\n",
       "      <td>NaN</td>\n",
       "      <td>NaN</td>\n",
       "      <td>1.0</td>\n",
       "      <td>NaN</td>\n",
       "      <td>NaN</td>\n",
       "      <td>NaN</td>\n",
       "      <td>NaN</td>\n",
       "      <td>NaN</td>\n",
       "    </tr>\n",
       "    <tr>\n",
       "      <th>5</th>\n",
       "      <td>NaN</td>\n",
       "      <td>2.0</td>\n",
       "      <td>NaN</td>\n",
       "      <td>NaN</td>\n",
       "      <td>3.0</td>\n",
       "      <td>NaN</td>\n",
       "      <td>NaN</td>\n",
       "      <td>3.0</td>\n",
       "      <td>1.0</td>\n",
       "      <td>NaN</td>\n",
       "    </tr>\n",
       "    <tr>\n",
       "      <th>6</th>\n",
       "      <td>NaN</td>\n",
       "      <td>3.0</td>\n",
       "      <td>NaN</td>\n",
       "      <td>NaN</td>\n",
       "      <td>1.0</td>\n",
       "      <td>NaN</td>\n",
       "      <td>3.0</td>\n",
       "      <td>NaN</td>\n",
       "      <td>NaN</td>\n",
       "      <td>NaN</td>\n",
       "    </tr>\n",
       "    <tr>\n",
       "      <th>7</th>\n",
       "      <td>NaN</td>\n",
       "      <td>NaN</td>\n",
       "      <td>NaN</td>\n",
       "      <td>NaN</td>\n",
       "      <td>NaN</td>\n",
       "      <td>NaN</td>\n",
       "      <td>NaN</td>\n",
       "      <td>NaN</td>\n",
       "      <td>NaN</td>\n",
       "      <td>NaN</td>\n",
       "    </tr>\n",
       "    <tr>\n",
       "      <th>8</th>\n",
       "      <td>NaN</td>\n",
       "      <td>NaN</td>\n",
       "      <td>NaN</td>\n",
       "      <td>0.0</td>\n",
       "      <td>NaN</td>\n",
       "      <td>NaN</td>\n",
       "      <td>0.0</td>\n",
       "      <td>NaN</td>\n",
       "      <td>NaN</td>\n",
       "      <td>NaN</td>\n",
       "    </tr>\n",
       "    <tr>\n",
       "      <th>9</th>\n",
       "      <td>NaN</td>\n",
       "      <td>NaN</td>\n",
       "      <td>NaN</td>\n",
       "      <td>2.0</td>\n",
       "      <td>2.0</td>\n",
       "      <td>0.0</td>\n",
       "      <td>4.0</td>\n",
       "      <td>NaN</td>\n",
       "      <td>NaN</td>\n",
       "      <td>NaN</td>\n",
       "    </tr>\n",
       "  </tbody>\n",
       "</table>\n",
       "</div>"
      ],
      "text/plain": [
       "     0    1    2    3    4    5    6    7    8    9\n",
       "0  NaN  NaN  NaN  NaN  NaN  NaN  NaN  NaN  NaN  NaN\n",
       "1  NaN  3.0  NaN  2.0  NaN  1.0  NaN  NaN  1.0  NaN\n",
       "2  0.0  NaN  NaN  NaN  NaN  NaN  NaN  NaN  NaN  NaN\n",
       "3  NaN  2.0  4.0  NaN  NaN  NaN  NaN  NaN  NaN  3.0\n",
       "4  NaN  NaN  NaN  NaN  1.0  NaN  NaN  NaN  NaN  NaN\n",
       "5  NaN  2.0  NaN  NaN  3.0  NaN  NaN  3.0  1.0  NaN\n",
       "6  NaN  3.0  NaN  NaN  1.0  NaN  3.0  NaN  NaN  NaN\n",
       "7  NaN  NaN  NaN  NaN  NaN  NaN  NaN  NaN  NaN  NaN\n",
       "8  NaN  NaN  NaN  0.0  NaN  NaN  0.0  NaN  NaN  NaN\n",
       "9  NaN  NaN  NaN  2.0  2.0  0.0  4.0  NaN  NaN  NaN"
      ]
     },
     "execution_count": 62,
     "metadata": {},
     "output_type": "execute_result"
    }
   ],
   "source": [
    "mask = df < 5\n",
    "df = df.where(mask, np.nan )\n",
    "df"
   ]
  },
  {
   "cell_type": "code",
   "execution_count": 66,
   "id": "f207ca75",
   "metadata": {},
   "outputs": [
    {
     "data": {
      "text/plain": [
       "0    10\n",
       "1     6\n",
       "2     9\n",
       "3     7\n",
       "4     9\n",
       "5     6\n",
       "6     7\n",
       "7    10\n",
       "8     8\n",
       "9     6\n",
       "dtype: int64"
      ]
     },
     "execution_count": 66,
     "metadata": {},
     "output_type": "execute_result"
    }
   ],
   "source": [
    "df.isnull().sum(axis=1)"
   ]
  },
  {
   "cell_type": "markdown",
   "id": "acceptable-manner",
   "metadata": {},
   "source": [
    "### A6 - 20%\n",
    "- Se tienen tres datasets, se adjuntan sus datos como diccionarios\n",
    "  - Students, representa un conjunto de alumnos, con sus nombres, edad y sexo\n",
    "  - Subjects, un conjunto de asignaturas, con su nombre y el semestre en que se imparten\n",
    "  - Marks, un conjunto de notas que han obtenido los alumnos en las asignaturas\n",
    "- Obtener la siguiente información usando Pandas\n",
    "  - El nombre del alumno con la mejor nota, y en que asignatura ha sido\n",
    "  - Cuantos alumnos tienen asignaturas suspendidas en el primer semestre\n",
    "  - La media de edad de los asistentes a la asignatura de Python\n",
    "  - Formar una palabra con las iniciales de los nombres de los estudiantes ordenados por edad\n",
    "- Representar graficamente\n",
    "  - Las notas medias de todos los estudiantes por asignatura, agrupando por sexo\n",
    "  - La densidad bivariable de la edad de los estudiantes frente a sus notas, agrupando por sexo (mostrando los datos de dispersion en la zona central, las curvas de densidad en los ejes)"
   ]
  },
  {
   "cell_type": "code",
   "execution_count": 67,
   "id": "radio-theory",
   "metadata": {},
   "outputs": [],
   "source": [
    "students = {'StudentId': [1,2,3,4,5,6], 'Name' : ['Yael','Thomas','Paula','Orlando','Hannah','Nicole'], 'Age' : [22,31,19,44,39,51], 'Sex' : ['M', 'M', 'F', 'M', 'F', 'F']}\n",
    "subjects = {'SubjectId': [1,2,3], 'Name': ['Python', 'Math', 'DeepLearning'], 'Semester': [1, 1, 2]}\n",
    "marks = {'StudentId' : [2,2,1,3,6,4,4,3,2,5], 'SubjectId' : [1,3,1,2,1,2,3,1,2,1], 'Mark': [6,5,8,3,5,2,7,2,4,6]}"
   ]
  },
  {
   "cell_type": "code",
   "execution_count": 71,
   "id": "7f93e645",
   "metadata": {},
   "outputs": [
    {
     "data": {
      "text/html": [
       "<table style=\"display:inline\" border=\"1\" class=\"dataframe\">\n",
       "  <thead>\n",
       "    <tr style=\"text-align: right;\">\n",
       "      <th></th>\n",
       "      <th>StudentId</th>\n",
       "      <th>Name</th>\n",
       "      <th>Age</th>\n",
       "      <th>Sex</th>\n",
       "    </tr>\n",
       "  </thead>\n",
       "  <tbody>\n",
       "    <tr>\n",
       "      <th>0</th>\n",
       "      <td>1</td>\n",
       "      <td>Yael</td>\n",
       "      <td>22</td>\n",
       "      <td>M</td>\n",
       "    </tr>\n",
       "    <tr>\n",
       "      <th>1</th>\n",
       "      <td>2</td>\n",
       "      <td>Thomas</td>\n",
       "      <td>31</td>\n",
       "      <td>M</td>\n",
       "    </tr>\n",
       "    <tr>\n",
       "      <th>2</th>\n",
       "      <td>3</td>\n",
       "      <td>Paula</td>\n",
       "      <td>19</td>\n",
       "      <td>F</td>\n",
       "    </tr>\n",
       "    <tr>\n",
       "      <th>3</th>\n",
       "      <td>4</td>\n",
       "      <td>Orlando</td>\n",
       "      <td>44</td>\n",
       "      <td>M</td>\n",
       "    </tr>\n",
       "    <tr>\n",
       "      <th>4</th>\n",
       "      <td>5</td>\n",
       "      <td>Hannah</td>\n",
       "      <td>39</td>\n",
       "      <td>F</td>\n",
       "    </tr>\n",
       "  </tbody>\n",
       "</table style=\"display:inline\"><table style=\"display:inline\" border=\"1\" class=\"dataframe\">\n",
       "  <thead>\n",
       "    <tr style=\"text-align: right;\">\n",
       "      <th></th>\n",
       "      <th>SubjectId</th>\n",
       "      <th>Name</th>\n",
       "      <th>Semester</th>\n",
       "    </tr>\n",
       "  </thead>\n",
       "  <tbody>\n",
       "    <tr>\n",
       "      <th>0</th>\n",
       "      <td>1</td>\n",
       "      <td>Python</td>\n",
       "      <td>1</td>\n",
       "    </tr>\n",
       "    <tr>\n",
       "      <th>1</th>\n",
       "      <td>2</td>\n",
       "      <td>Math</td>\n",
       "      <td>1</td>\n",
       "    </tr>\n",
       "    <tr>\n",
       "      <th>2</th>\n",
       "      <td>3</td>\n",
       "      <td>DeepLearning</td>\n",
       "      <td>2</td>\n",
       "    </tr>\n",
       "  </tbody>\n",
       "</table style=\"display:inline\"><table style=\"display:inline\" border=\"1\" class=\"dataframe\">\n",
       "  <thead>\n",
       "    <tr style=\"text-align: right;\">\n",
       "      <th></th>\n",
       "      <th>StudentId</th>\n",
       "      <th>SubjectId</th>\n",
       "      <th>Mark</th>\n",
       "    </tr>\n",
       "  </thead>\n",
       "  <tbody>\n",
       "    <tr>\n",
       "      <th>0</th>\n",
       "      <td>2</td>\n",
       "      <td>1</td>\n",
       "      <td>6</td>\n",
       "    </tr>\n",
       "    <tr>\n",
       "      <th>1</th>\n",
       "      <td>2</td>\n",
       "      <td>3</td>\n",
       "      <td>5</td>\n",
       "    </tr>\n",
       "    <tr>\n",
       "      <th>2</th>\n",
       "      <td>1</td>\n",
       "      <td>1</td>\n",
       "      <td>8</td>\n",
       "    </tr>\n",
       "    <tr>\n",
       "      <th>3</th>\n",
       "      <td>3</td>\n",
       "      <td>2</td>\n",
       "      <td>3</td>\n",
       "    </tr>\n",
       "    <tr>\n",
       "      <th>4</th>\n",
       "      <td>6</td>\n",
       "      <td>1</td>\n",
       "      <td>5</td>\n",
       "    </tr>\n",
       "  </tbody>\n",
       "</table style=\"display:inline\">"
      ]
     },
     "metadata": {},
     "output_type": "display_data"
    }
   ],
   "source": [
    "df_students = pd.DataFrame(students)\n",
    "df_subjects = pd.DataFrame(subjects)\n",
    "df_marks = pd.DataFrame(marks)\n",
    "\n",
    "from IPython.display import display_html\n",
    "def display_side_by_side(*args):\n",
    "    html_str=''\n",
    "    for df in args:\n",
    "        html_str+=df.to_html()\n",
    "    display_html(html_str.replace('table','table style=\"display:inline\"'),raw=True)\n",
    "    \n",
    "display_side_by_side(df_students.head(),df_subjects,df_marks.head())"
   ]
  },
  {
   "cell_type": "code",
   "execution_count": 87,
   "id": "c58e119f",
   "metadata": {},
   "outputs": [
    {
     "data": {
      "text/html": [
       "<div>\n",
       "<style scoped>\n",
       "    .dataframe tbody tr th:only-of-type {\n",
       "        vertical-align: middle;\n",
       "    }\n",
       "\n",
       "    .dataframe tbody tr th {\n",
       "        vertical-align: top;\n",
       "    }\n",
       "\n",
       "    .dataframe thead th {\n",
       "        text-align: right;\n",
       "    }\n",
       "</style>\n",
       "<table border=\"1\" class=\"dataframe\">\n",
       "  <thead>\n",
       "    <tr style=\"text-align: right;\">\n",
       "      <th></th>\n",
       "      <th>StudentId</th>\n",
       "      <th>Name_x</th>\n",
       "      <th>Age</th>\n",
       "      <th>Sex</th>\n",
       "      <th>SubjectId</th>\n",
       "      <th>Mark</th>\n",
       "      <th>Name_y</th>\n",
       "      <th>Semester</th>\n",
       "    </tr>\n",
       "  </thead>\n",
       "  <tbody>\n",
       "    <tr>\n",
       "      <th>0</th>\n",
       "      <td>1</td>\n",
       "      <td>Yael</td>\n",
       "      <td>22</td>\n",
       "      <td>M</td>\n",
       "      <td>1</td>\n",
       "      <td>8</td>\n",
       "      <td>Python</td>\n",
       "      <td>1</td>\n",
       "    </tr>\n",
       "    <tr>\n",
       "      <th>1</th>\n",
       "      <td>2</td>\n",
       "      <td>Thomas</td>\n",
       "      <td>31</td>\n",
       "      <td>M</td>\n",
       "      <td>1</td>\n",
       "      <td>6</td>\n",
       "      <td>Python</td>\n",
       "      <td>1</td>\n",
       "    </tr>\n",
       "    <tr>\n",
       "      <th>2</th>\n",
       "      <td>3</td>\n",
       "      <td>Paula</td>\n",
       "      <td>19</td>\n",
       "      <td>F</td>\n",
       "      <td>1</td>\n",
       "      <td>2</td>\n",
       "      <td>Python</td>\n",
       "      <td>1</td>\n",
       "    </tr>\n",
       "    <tr>\n",
       "      <th>3</th>\n",
       "      <td>5</td>\n",
       "      <td>Hannah</td>\n",
       "      <td>39</td>\n",
       "      <td>F</td>\n",
       "      <td>1</td>\n",
       "      <td>6</td>\n",
       "      <td>Python</td>\n",
       "      <td>1</td>\n",
       "    </tr>\n",
       "    <tr>\n",
       "      <th>4</th>\n",
       "      <td>6</td>\n",
       "      <td>Nicole</td>\n",
       "      <td>51</td>\n",
       "      <td>F</td>\n",
       "      <td>1</td>\n",
       "      <td>5</td>\n",
       "      <td>Python</td>\n",
       "      <td>1</td>\n",
       "    </tr>\n",
       "    <tr>\n",
       "      <th>5</th>\n",
       "      <td>2</td>\n",
       "      <td>Thomas</td>\n",
       "      <td>31</td>\n",
       "      <td>M</td>\n",
       "      <td>3</td>\n",
       "      <td>5</td>\n",
       "      <td>DeepLearning</td>\n",
       "      <td>2</td>\n",
       "    </tr>\n",
       "    <tr>\n",
       "      <th>6</th>\n",
       "      <td>4</td>\n",
       "      <td>Orlando</td>\n",
       "      <td>44</td>\n",
       "      <td>M</td>\n",
       "      <td>3</td>\n",
       "      <td>7</td>\n",
       "      <td>DeepLearning</td>\n",
       "      <td>2</td>\n",
       "    </tr>\n",
       "    <tr>\n",
       "      <th>7</th>\n",
       "      <td>2</td>\n",
       "      <td>Thomas</td>\n",
       "      <td>31</td>\n",
       "      <td>M</td>\n",
       "      <td>2</td>\n",
       "      <td>4</td>\n",
       "      <td>Math</td>\n",
       "      <td>1</td>\n",
       "    </tr>\n",
       "    <tr>\n",
       "      <th>8</th>\n",
       "      <td>3</td>\n",
       "      <td>Paula</td>\n",
       "      <td>19</td>\n",
       "      <td>F</td>\n",
       "      <td>2</td>\n",
       "      <td>3</td>\n",
       "      <td>Math</td>\n",
       "      <td>1</td>\n",
       "    </tr>\n",
       "    <tr>\n",
       "      <th>9</th>\n",
       "      <td>4</td>\n",
       "      <td>Orlando</td>\n",
       "      <td>44</td>\n",
       "      <td>M</td>\n",
       "      <td>2</td>\n",
       "      <td>2</td>\n",
       "      <td>Math</td>\n",
       "      <td>1</td>\n",
       "    </tr>\n",
       "  </tbody>\n",
       "</table>\n",
       "</div>"
      ],
      "text/plain": [
       "   StudentId   Name_x  Age Sex  SubjectId  Mark        Name_y  Semester\n",
       "0          1     Yael   22   M          1     8        Python         1\n",
       "1          2   Thomas   31   M          1     6        Python         1\n",
       "2          3    Paula   19   F          1     2        Python         1\n",
       "3          5   Hannah   39   F          1     6        Python         1\n",
       "4          6   Nicole   51   F          1     5        Python         1\n",
       "5          2   Thomas   31   M          3     5  DeepLearning         2\n",
       "6          4  Orlando   44   M          3     7  DeepLearning         2\n",
       "7          2   Thomas   31   M          2     4          Math         1\n",
       "8          3    Paula   19   F          2     3          Math         1\n",
       "9          4  Orlando   44   M          2     2          Math         1"
      ]
     },
     "execution_count": 87,
     "metadata": {},
     "output_type": "execute_result"
    }
   ],
   "source": [
    "## vamos a hacer joins\n",
    "\n",
    "df_students_subjects = pd.merge(df_students,df_marks, how = 'inner', on='StudentId') \n",
    "df_students_complete = pd.merge(df_students_subjects,df_subjects, how= 'inner', on = 'SubjectId')\n",
    "df_students_complete"
   ]
  },
  {
   "cell_type": "code",
   "execution_count": 98,
   "id": "d3212dbf",
   "metadata": {},
   "outputs": [
    {
     "name": "stdout",
     "output_type": "stream",
     "text": [
      "La máxima nota es 8 de Yael en Python\n"
     ]
    }
   ],
   "source": [
    "best_mark = df_students_complete.Mark.max()\n",
    "best_student = df_students_complete.loc[df_students_complete.Mark == best_mark]\n",
    "print(f'La máxima nota es {best_mark} de {best_student.Name_x[0]} en {best_student.Name_y[0]}')"
   ]
  },
  {
   "cell_type": "code",
   "execution_count": 109,
   "id": "09379ea6",
   "metadata": {},
   "outputs": [
    {
     "name": "stdout",
     "output_type": "stream",
     "text": [
      "El número de alumnos con suspensos en el Semestre 1 es 3 y sus nombres son Paula, Thomas y Orlando\n"
     ]
    }
   ],
   "source": [
    "df_failed = df_students_complete[(df_students_complete.Mark < 5) & (df_students_complete.Semester == 1)]\n",
    "print(f'El número de alumnos con suspensos en el Semestre 1 es {len(pd.unique(df_failed.Name_x))} y sus nombres son {pd.unique(df_failed.Name_x)[0]}, {pd.unique(df_failed.Name_x)[1]} y {pd.unique(df_failed.Name_x)[2]}')\n"
   ]
  },
  {
   "cell_type": "code",
   "execution_count": 114,
   "id": "e5d32a91",
   "metadata": {},
   "outputs": [
    {
     "name": "stdout",
     "output_type": "stream",
     "text": [
      "La media de edad de Python es 32.4 años\n"
     ]
    }
   ],
   "source": [
    "df_python = df_students_complete.loc[df_students_complete['SubjectId'] == 1]\n",
    "print(f'La media de edad de {df_python.Name_y[0]} es {df_python.Age.mean()} años')"
   ]
  },
  {
   "cell_type": "code",
   "execution_count": 169,
   "id": "b5ecbadb",
   "metadata": {},
   "outputs": [
    {
     "data": {
      "text/plain": [
       "'PYTHON'"
      ]
     },
     "execution_count": 169,
     "metadata": {},
     "output_type": "execute_result"
    }
   ],
   "source": [
    "## reordenamos por edad y eliminamos duplicados del nombre, después con una list comprehension cazamos cada inicial y unimos\n",
    "df_ordered = df_students_complete.sort_values(by=['Age'])['Name_x'].drop_duplicates().reset_index()\n",
    "\n",
    "word = [df_ordered.Name_x[i][0] for i in range(len(df_ordered))]\n",
    "''.join(word)\n"
   ]
  },
  {
   "attachments": {},
   "cell_type": "markdown",
   "id": "d41fd7be",
   "metadata": {},
   "source": [
    "- Representar graficamente\n",
    "  - Las notas medias de todos los estudiantes por asignatura, agrupando por sexo\n",
    "  - La densidad bivariable de la edad de los estudiantes frente a sus notas, agrupando por sexo (mostrando los datos de dispersion en la zona central, las curvas de densidad en los ejes)"
   ]
  },
  {
   "cell_type": "code",
   "execution_count": null,
   "id": "cd03035e",
   "metadata": {},
   "outputs": [],
   "source": []
  },
  {
   "cell_type": "markdown",
   "id": "seven-trout",
   "metadata": {},
   "source": [
    "### A7 - 15%\n",
    "- Dadas dos Series de Pandas, implementar una función 'find_not_common' para encontrar los elementos no comunes a ambas Series\n",
    "- Se proveen dos series como referencia, el resultado para este ejemplo debe ser una serie con los elementos [4, 6, 14, 16]"
   ]
  },
  {
   "cell_type": "code",
   "execution_count": 207,
   "id": "residential-empty",
   "metadata": {},
   "outputs": [
    {
     "name": "stdout",
     "output_type": "stream",
     "text": [
      "0     4\n",
      "1     6\n",
      "2    14\n",
      "3    16\n",
      "dtype: int64\n",
      "0     4\n",
      "1     6\n",
      "2    14\n",
      "3    16\n",
      "dtype: int64\n",
      "True\n"
     ]
    }
   ],
   "source": [
    "p1 = pd.Series([2, 4, 12, 6, 8, 10])\n",
    "p2 = pd.Series([8, 10, 12, 10, 14, 2, 16, 10])\n",
    "\n",
    "def find_not_common(a,b):\n",
    "    '''\n",
    "    Recibe dos series cualquiera como parámetros y realiza una union y una interseccion, despues comprueba que elementos de la unión no están en la intersección.\n",
    "    Devuelve una serie de pandas.\n",
    "    '''\n",
    "    union = pd.Series(np.union1d(a,b))\n",
    "    intersect = pd.Series(np.intersect1d(a,b))\n",
    "    return pd.Series(union[~union.isin(intersect)].to_list()) ## to list para obligar al reindexado\n",
    "\n",
    "print(find_not_common(p1,p2))\n",
    "print(pd.Series([4, 6, 14, 16]))\n",
    "\n",
    "print(find_not_common(p1, p2).equals(pd.Series([4, 6, 14, 16]))) # Esto deberia imprimir True"
   ]
  }
 ],
 "metadata": {
  "kernelspec": {
   "display_name": "Python 3",
   "language": "python",
   "name": "python3"
  },
  "language_info": {
   "codemirror_mode": {
    "name": "ipython",
    "version": 3
   },
   "file_extension": ".py",
   "mimetype": "text/x-python",
   "name": "python",
   "nbconvert_exporter": "python",
   "pygments_lexer": "ipython3",
   "version": "3.10.6"
  }
 },
 "nbformat": 4,
 "nbformat_minor": 5
}
